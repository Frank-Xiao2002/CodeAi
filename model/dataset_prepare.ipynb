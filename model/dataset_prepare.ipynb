{
 "cells": [
  {
   "cell_type": "code",
   "id": "initial_id",
   "metadata": {
    "collapsed": true,
    "ExecuteTime": {
     "end_time": "2025-05-03T08:06:33.233906Z",
     "start_time": "2025-05-03T08:06:30.711774Z"
    }
   },
   "source": "from datasets import load_dataset",
   "outputs": [
    {
     "name": "stderr",
     "output_type": "stream",
     "text": [
      "C:\\Users\\frank\\IdeaProjects\\dataset-clean\\.venv\\Lib\\site-packages\\tqdm\\auto.py:21: TqdmWarning: IProgress not found. Please update jupyter and ipywidgets. See https://ipywidgets.readthedocs.io/en/stable/user_install.html\n",
      "  from .autonotebook import tqdm as notebook_tqdm\n"
     ]
    }
   ],
   "execution_count": 1
  },
  {
   "metadata": {
    "ExecuteTime": {
     "end_time": "2025-05-03T08:06:38.944811Z",
     "start_time": "2025-05-03T08:06:34.424213Z"
    }
   },
   "cell_type": "code",
   "source": "dataset = load_dataset('greengerong/leetcode', split='train')",
   "id": "1beb373dd11a8dd2",
   "outputs": [],
   "execution_count": 2
  },
  {
   "metadata": {
    "ExecuteTime": {
     "end_time": "2025-05-03T08:06:40.418236Z",
     "start_time": "2025-05-03T08:06:40.414781Z"
    }
   },
   "cell_type": "code",
   "source": "dataset",
   "id": "eccec0ce1e57870c",
   "outputs": [
    {
     "data": {
      "text/plain": [
       "Dataset({\n",
       "    features: ['id', 'slug', 'title', 'difficulty', 'content', 'java', 'c++', 'python', 'javascript'],\n",
       "    num_rows: 2360\n",
       "})"
      ]
     },
     "execution_count": 3,
     "metadata": {},
     "output_type": "execute_result"
    }
   ],
   "execution_count": 3
  },
  {
   "metadata": {
    "ExecuteTime": {
     "end_time": "2025-05-03T08:06:42.075165Z",
     "start_time": "2025-05-03T08:06:42.072024Z"
    }
   },
   "cell_type": "code",
   "source": "print(dataset)",
   "id": "84e12fb4225d5522",
   "outputs": [
    {
     "name": "stdout",
     "output_type": "stream",
     "text": [
      "Dataset({\n",
      "    features: ['id', 'slug', 'title', 'difficulty', 'content', 'java', 'c++', 'python', 'javascript'],\n",
      "    num_rows: 2360\n",
      "})\n"
     ]
    }
   ],
   "execution_count": 4
  },
  {
   "metadata": {
    "ExecuteTime": {
     "end_time": "2025-04-28T15:14:47.274077Z",
     "start_time": "2025-04-28T15:14:47.271686Z"
    }
   },
   "cell_type": "code",
   "source": [
    "template = \"\"\"Three types of solutions are provided.\n",
    "If using Java, the solution is:\n",
    "{}\n",
    "\n",
    "If using Python, the solution is:\n",
    "{}\n",
    "\n",
    "If using C++, the solution is:\n",
    "{}\n",
    "\"\"\""
   ],
   "id": "659e526b1a3cbb8b",
   "outputs": [],
   "execution_count": 5
  },
  {
   "metadata": {
    "ExecuteTime": {
     "end_time": "2025-04-28T15:14:47.307530Z",
     "start_time": "2025-04-28T15:14:47.300547Z"
    }
   },
   "cell_type": "code",
   "source": [
    "def func_map(line):\n",
    "    line['output'] = template.format(line['java'], line['python'], line['c++'])\n",
    "    return line\n",
    "\n",
    "\n",
    "refined_dataset = dataset.remove_columns(['id', 'slug', 'title', 'difficulty', \"javascript\"]) \\\n",
    "    .rename_column('content', 'instruction') \\\n",
    "    .map(func_map) \\\n",
    "    .remove_columns(['java', 'python', 'c++'])"
   ],
   "id": "a5f587a232a0177",
   "outputs": [],
   "execution_count": 6
  },
  {
   "metadata": {
    "ExecuteTime": {
     "end_time": "2025-04-28T15:14:47.326119Z",
     "start_time": "2025-04-28T15:14:47.322876Z"
    }
   },
   "cell_type": "code",
   "source": "refined_dataset",
   "id": "178fa33aacbb644f",
   "outputs": [
    {
     "data": {
      "text/plain": [
       "Dataset({\n",
       "    features: ['instruction', 'output'],\n",
       "    num_rows: 2360\n",
       "})"
      ]
     },
     "execution_count": 7,
     "metadata": {},
     "output_type": "execute_result"
    }
   ],
   "execution_count": 7
  },
  {
   "metadata": {
    "ExecuteTime": {
     "end_time": "2025-04-28T15:14:47.391123Z",
     "start_time": "2025-04-28T15:14:47.351778Z"
    }
   },
   "cell_type": "code",
   "source": "refined_dataset.to_pandas().to_json('mydata.json', orient='records', lines=False)",
   "id": "20de6efa5f0fe035",
   "outputs": [],
   "execution_count": 8
  }
 ],
 "metadata": {
  "kernelspec": {
   "display_name": "Python 3",
   "language": "python",
   "name": "python3"
  },
  "language_info": {
   "codemirror_mode": {
    "name": "ipython",
    "version": 2
   },
   "file_extension": ".py",
   "mimetype": "text/x-python",
   "name": "python",
   "nbconvert_exporter": "python",
   "pygments_lexer": "ipython2",
   "version": "2.7.6"
  }
 },
 "nbformat": 4,
 "nbformat_minor": 5
}
